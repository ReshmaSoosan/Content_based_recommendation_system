{
 "cells": [
  {
   "cell_type": "code",
   "execution_count": 73,
   "metadata": {},
   "outputs": [],
   "source": [
    "import pandas as pd\n",
    "import numpy as np"
   ]
  },
  {
   "cell_type": "code",
   "execution_count": 74,
   "metadata": {},
   "outputs": [],
   "source": [
    "data = pd.read_csv(\"TripAdvisor_RestauarantRecommendation.csv\")"
   ]
  },
  {
   "cell_type": "code",
   "execution_count": 75,
   "metadata": {},
   "outputs": [
    {
     "data": {
      "text/html": [
       "<div>\n",
       "<style scoped>\n",
       "    .dataframe tbody tr th:only-of-type {\n",
       "        vertical-align: middle;\n",
       "    }\n",
       "\n",
       "    .dataframe tbody tr th {\n",
       "        vertical-align: top;\n",
       "    }\n",
       "\n",
       "    .dataframe thead th {\n",
       "        text-align: right;\n",
       "    }\n",
       "</style>\n",
       "<table border=\"1\" class=\"dataframe\">\n",
       "  <thead>\n",
       "    <tr style=\"text-align: right;\">\n",
       "      <th></th>\n",
       "      <th>Name</th>\n",
       "      <th>Street Address</th>\n",
       "      <th>Location</th>\n",
       "      <th>Type</th>\n",
       "      <th>Reviews</th>\n",
       "      <th>No of Reviews</th>\n",
       "      <th>Comments</th>\n",
       "      <th>Contact Number</th>\n",
       "      <th>Trip_advisor Url</th>\n",
       "      <th>Menu</th>\n",
       "      <th>Price_Range</th>\n",
       "    </tr>\n",
       "  </thead>\n",
       "  <tbody>\n",
       "    <tr>\n",
       "      <th>0</th>\n",
       "      <td>Betty Lou's Seafood and Grill</td>\n",
       "      <td>318 Columbus Ave</td>\n",
       "      <td>San Francisco, CA 94133-3908</td>\n",
       "      <td>Seafood, Vegetarian Friendly, Vegan Options</td>\n",
       "      <td>4.5 of 5 bubbles</td>\n",
       "      <td>243 reviews</td>\n",
       "      <td>NaN</td>\n",
       "      <td>+1 415-757-0569</td>\n",
       "      <td>https://www.tripadvisor.com//Restaurant_Review...</td>\n",
       "      <td>Check The Website for a Menu</td>\n",
       "      <td>$$ - $$$</td>\n",
       "    </tr>\n",
       "    <tr>\n",
       "      <th>1</th>\n",
       "      <td>Coach House Diner</td>\n",
       "      <td>55 State Rt 4</td>\n",
       "      <td>Hackensack, NJ 07601-6337</td>\n",
       "      <td>Diner, American, Vegetarian Friendly</td>\n",
       "      <td>4 of 5 bubbles</td>\n",
       "      <td>84 reviews</td>\n",
       "      <td>Both times we were there very late, after 11 P...</td>\n",
       "      <td>+1 201-488-4999</td>\n",
       "      <td>https://www.tripadvisor.com//Restaurant_Review...</td>\n",
       "      <td>Check The Website for a Menu</td>\n",
       "      <td>$$ - $$$</td>\n",
       "    </tr>\n",
       "    <tr>\n",
       "      <th>2</th>\n",
       "      <td>Table Talk Diner</td>\n",
       "      <td>2521 South Rd Ste C</td>\n",
       "      <td>Poughkeepsie, NY 12601-5476</td>\n",
       "      <td>American, Diner, Vegetarian Friendly</td>\n",
       "      <td>4 of 5 bubbles</td>\n",
       "      <td>256 reviews</td>\n",
       "      <td>Waitress was very friendly but a little pricey...</td>\n",
       "      <td>+1 845-849-2839</td>\n",
       "      <td>https://www.tripadvisor.com//Restaurant_Review...</td>\n",
       "      <td>http://tabletalkdiner.com/menu/breakfast/</td>\n",
       "      <td>$$ - $$$</td>\n",
       "    </tr>\n",
       "    <tr>\n",
       "      <th>3</th>\n",
       "      <td>Sixty Vines</td>\n",
       "      <td>3701 Dallas Pkwy</td>\n",
       "      <td>Plano, TX 75093-7777</td>\n",
       "      <td>American, Wine Bar, Vegetarian Friendly</td>\n",
       "      <td>4.5 of 5 bubbles</td>\n",
       "      <td>235 reviews</td>\n",
       "      <td>Not sure why I went there for the second time....</td>\n",
       "      <td>+1 469-620-8463</td>\n",
       "      <td>https://www.tripadvisor.com//Restaurant_Review...</td>\n",
       "      <td>https://sixtyvines.com/menu/plano-tx/</td>\n",
       "      <td>$$ - $$$</td>\n",
       "    </tr>\n",
       "    <tr>\n",
       "      <th>4</th>\n",
       "      <td>The Clam Bar</td>\n",
       "      <td>3914 Brewerton Rd</td>\n",
       "      <td>Syracuse, NY 13212</td>\n",
       "      <td>American, Bar, Seafood</td>\n",
       "      <td>4 of 5 bubbles</td>\n",
       "      <td>285 reviews</td>\n",
       "      <td>Doesn't look like much from the outside but wa...</td>\n",
       "      <td>+1 315-458-1662</td>\n",
       "      <td>https://www.tripadvisor.com//Restaurant_Review...</td>\n",
       "      <td>Check The Website for a Menu</td>\n",
       "      <td>$$ - $$$</td>\n",
       "    </tr>\n",
       "  </tbody>\n",
       "</table>\n",
       "</div>"
      ],
      "text/plain": [
       "                            Name       Street Address  \\\n",
       "0  Betty Lou's Seafood and Grill     318 Columbus Ave   \n",
       "1              Coach House Diner        55 State Rt 4   \n",
       "2               Table Talk Diner  2521 South Rd Ste C   \n",
       "3                    Sixty Vines     3701 Dallas Pkwy   \n",
       "4                   The Clam Bar    3914 Brewerton Rd   \n",
       "\n",
       "                       Location                                          Type  \\\n",
       "0  San Francisco, CA 94133-3908   Seafood, Vegetarian Friendly, Vegan Options   \n",
       "1     Hackensack, NJ 07601-6337          Diner, American, Vegetarian Friendly   \n",
       "2   Poughkeepsie, NY 12601-5476          American, Diner, Vegetarian Friendly   \n",
       "3          Plano, TX 75093-7777       American, Wine Bar, Vegetarian Friendly   \n",
       "4            Syracuse, NY 13212                        American, Bar, Seafood   \n",
       "\n",
       "            Reviews No of Reviews  \\\n",
       "0  4.5 of 5 bubbles   243 reviews   \n",
       "1    4 of 5 bubbles    84 reviews   \n",
       "2    4 of 5 bubbles   256 reviews   \n",
       "3  4.5 of 5 bubbles   235 reviews   \n",
       "4    4 of 5 bubbles   285 reviews   \n",
       "\n",
       "                                            Comments   Contact Number  \\\n",
       "0                                                NaN  +1 415-757-0569   \n",
       "1  Both times we were there very late, after 11 P...  +1 201-488-4999   \n",
       "2  Waitress was very friendly but a little pricey...  +1 845-849-2839   \n",
       "3  Not sure why I went there for the second time....  +1 469-620-8463   \n",
       "4  Doesn't look like much from the outside but wa...  +1 315-458-1662   \n",
       "\n",
       "                                    Trip_advisor Url  \\\n",
       "0  https://www.tripadvisor.com//Restaurant_Review...   \n",
       "1  https://www.tripadvisor.com//Restaurant_Review...   \n",
       "2  https://www.tripadvisor.com//Restaurant_Review...   \n",
       "3  https://www.tripadvisor.com//Restaurant_Review...   \n",
       "4  https://www.tripadvisor.com//Restaurant_Review...   \n",
       "\n",
       "                                        Menu Price_Range  \n",
       "0               Check The Website for a Menu    $$ - $$$  \n",
       "1               Check The Website for a Menu    $$ - $$$  \n",
       "2  http://tabletalkdiner.com/menu/breakfast/    $$ - $$$  \n",
       "3      https://sixtyvines.com/menu/plano-tx/    $$ - $$$  \n",
       "4               Check The Website for a Menu    $$ - $$$  "
      ]
     },
     "execution_count": 75,
     "metadata": {},
     "output_type": "execute_result"
    }
   ],
   "source": [
    "data.head()"
   ]
  },
  {
   "cell_type": "code",
   "execution_count": 76,
   "metadata": {},
   "outputs": [
    {
     "data": {
      "text/plain": [
       "Index(['Name', 'Street Address', 'Location', 'Type', 'Reviews',\n",
       "       'No of Reviews', 'Comments', 'Contact Number', 'Trip_advisor Url',\n",
       "       'Menu', 'Price_Range'],\n",
       "      dtype='object')"
      ]
     },
     "execution_count": 76,
     "metadata": {},
     "output_type": "execute_result"
    }
   ],
   "source": [
    "data.columns"
   ]
  },
  {
   "cell_type": "code",
   "execution_count": 77,
   "metadata": {},
   "outputs": [
    {
     "data": {
      "text/plain": [
       "2641"
      ]
     },
     "execution_count": 77,
     "metadata": {},
     "output_type": "execute_result"
    }
   ],
   "source": [
    "data['Name'].nunique()"
   ]
  },
  {
   "cell_type": "code",
   "execution_count": 78,
   "metadata": {},
   "outputs": [
    {
     "data": {
      "text/plain": [
       "2653"
      ]
     },
     "execution_count": 78,
     "metadata": {},
     "output_type": "execute_result"
    }
   ],
   "source": [
    "data['Location'].nunique()"
   ]
  },
  {
   "cell_type": "code",
   "execution_count": 79,
   "metadata": {},
   "outputs": [
    {
     "data": {
      "text/plain": [
       "' American, Steakhouse, Bar'"
      ]
     },
     "execution_count": 79,
     "metadata": {},
     "output_type": "execute_result"
    }
   ],
   "source": [
    "data['Type'][6]"
   ]
  },
  {
   "cell_type": "code",
   "execution_count": 80,
   "metadata": {},
   "outputs": [],
   "source": [
    "#take comments and identify similar kind of restaurants"
   ]
  },
  {
   "cell_type": "code",
   "execution_count": 81,
   "metadata": {},
   "outputs": [
    {
     "data": {
      "text/plain": [
       "0                                                     NaN\n",
       "1       Both times we were there very late, after 11 P...\n",
       "2       Waitress was very friendly but a little pricey...\n",
       "3       Not sure why I went there for the second time....\n",
       "4       Doesn't look like much from the outside but wa...\n",
       "                              ...                        \n",
       "3057    We had to wait a few minutes to get it but it ...\n",
       "3058    Came here to see Andrea Gibson perform, we wer...\n",
       "3059    We come to Brio once a month. They are good fo...\n",
       "3060    Stopped in yesterday for Breakfast. When in Je...\n",
       "3061    First time for dinner. 2 couples. Delicious mu...\n",
       "Name: Comments, Length: 3062, dtype: object"
      ]
     },
     "execution_count": 81,
     "metadata": {},
     "output_type": "execute_result"
    }
   ],
   "source": [
    "data['Comments']"
   ]
  },
  {
   "cell_type": "code",
   "execution_count": 82,
   "metadata": {},
   "outputs": [],
   "source": [
    "data2 = data[[\"Name\",\"Comments\"]]"
   ]
  },
  {
   "cell_type": "code",
   "execution_count": 83,
   "metadata": {},
   "outputs": [],
   "source": [
    "indices = pd.Series(data2.index, index = data2['Name'])"
   ]
  },
  {
   "cell_type": "code",
   "execution_count": 84,
   "metadata": {},
   "outputs": [
    {
     "data": {
      "text/html": [
       "<div>\n",
       "<style scoped>\n",
       "    .dataframe tbody tr th:only-of-type {\n",
       "        vertical-align: middle;\n",
       "    }\n",
       "\n",
       "    .dataframe tbody tr th {\n",
       "        vertical-align: top;\n",
       "    }\n",
       "\n",
       "    .dataframe thead th {\n",
       "        text-align: right;\n",
       "    }\n",
       "</style>\n",
       "<table border=\"1\" class=\"dataframe\">\n",
       "  <thead>\n",
       "    <tr style=\"text-align: right;\">\n",
       "      <th></th>\n",
       "      <th>Name</th>\n",
       "      <th>Comments</th>\n",
       "    </tr>\n",
       "  </thead>\n",
       "  <tbody>\n",
       "    <tr>\n",
       "      <th>0</th>\n",
       "      <td>Betty Lou's Seafood and Grill</td>\n",
       "      <td>NaN</td>\n",
       "    </tr>\n",
       "    <tr>\n",
       "      <th>1</th>\n",
       "      <td>Coach House Diner</td>\n",
       "      <td>Both times we were there very late, after 11 P...</td>\n",
       "    </tr>\n",
       "    <tr>\n",
       "      <th>2</th>\n",
       "      <td>Table Talk Diner</td>\n",
       "      <td>Waitress was very friendly but a little pricey...</td>\n",
       "    </tr>\n",
       "    <tr>\n",
       "      <th>3</th>\n",
       "      <td>Sixty Vines</td>\n",
       "      <td>Not sure why I went there for the second time....</td>\n",
       "    </tr>\n",
       "    <tr>\n",
       "      <th>4</th>\n",
       "      <td>The Clam Bar</td>\n",
       "      <td>Doesn't look like much from the outside but wa...</td>\n",
       "    </tr>\n",
       "  </tbody>\n",
       "</table>\n",
       "</div>"
      ],
      "text/plain": [
       "                            Name  \\\n",
       "0  Betty Lou's Seafood and Grill   \n",
       "1              Coach House Diner   \n",
       "2               Table Talk Diner   \n",
       "3                    Sixty Vines   \n",
       "4                   The Clam Bar   \n",
       "\n",
       "                                            Comments  \n",
       "0                                                NaN  \n",
       "1  Both times we were there very late, after 11 P...  \n",
       "2  Waitress was very friendly but a little pricey...  \n",
       "3  Not sure why I went there for the second time....  \n",
       "4  Doesn't look like much from the outside but wa...  "
      ]
     },
     "execution_count": 84,
     "metadata": {},
     "output_type": "execute_result"
    }
   ],
   "source": [
    "data2.head()"
   ]
  },
  {
   "cell_type": "code",
   "execution_count": 85,
   "metadata": {},
   "outputs": [
    {
     "data": {
      "text/plain": [
       "Name          0\n",
       "Comments    615\n",
       "dtype: int64"
      ]
     },
     "execution_count": 85,
     "metadata": {},
     "output_type": "execute_result"
    }
   ],
   "source": [
    "data2.isna().sum()"
   ]
  },
  {
   "cell_type": "code",
   "execution_count": 86,
   "metadata": {},
   "outputs": [
    {
     "data": {
      "text/plain": [
       "(3062, 2)"
      ]
     },
     "execution_count": 86,
     "metadata": {},
     "output_type": "execute_result"
    }
   ],
   "source": [
    "data2.shape"
   ]
  },
  {
   "cell_type": "code",
   "execution_count": 87,
   "metadata": {},
   "outputs": [
    {
     "data": {
      "text/plain": [
       "Name        0\n",
       "Comments    0\n",
       "dtype: int64"
      ]
     },
     "execution_count": 87,
     "metadata": {},
     "output_type": "execute_result"
    }
   ],
   "source": [
    "data2 = data2.dropna()\n",
    "data2.isna().sum()"
   ]
  },
  {
   "cell_type": "code",
   "execution_count": 88,
   "metadata": {},
   "outputs": [
    {
     "data": {
      "text/plain": [
       "(2447, 2)"
      ]
     },
     "execution_count": 88,
     "metadata": {},
     "output_type": "execute_result"
    }
   ],
   "source": [
    "data2.shape"
   ]
  },
  {
   "cell_type": "code",
   "execution_count": 89,
   "metadata": {},
   "outputs": [],
   "source": [
    "feature = data2['Comments'].tolist()"
   ]
  },
  {
   "cell_type": "code",
   "execution_count": 90,
   "metadata": {},
   "outputs": [],
   "source": [
    "from sklearn.feature_extraction.text import TfidfVectorizer"
   ]
  },
  {
   "cell_type": "code",
   "execution_count": 91,
   "metadata": {},
   "outputs": [],
   "source": [
    "tfidf = TfidfVectorizer(input=feature, stop_words = \"english\")"
   ]
  },
  {
   "cell_type": "code",
   "execution_count": 92,
   "metadata": {},
   "outputs": [],
   "source": [
    "tfidf_matrix = tfidf.fit_transform(feature)"
   ]
  },
  {
   "cell_type": "code",
   "execution_count": 93,
   "metadata": {},
   "outputs": [
    {
     "data": {
      "text/plain": [
       "(2447, 6245)"
      ]
     },
     "execution_count": 93,
     "metadata": {},
     "output_type": "execute_result"
    }
   ],
   "source": [
    "tfidf_matrix.shape"
   ]
  },
  {
   "cell_type": "code",
   "execution_count": 94,
   "metadata": {},
   "outputs": [],
   "source": [
    "from sklearn.metrics.pairwise import cosine_similarity"
   ]
  },
  {
   "cell_type": "code",
   "execution_count": 95,
   "metadata": {},
   "outputs": [],
   "source": [
    "similarity = cosine_similarity(tfidf_matrix, tfidf_matrix)"
   ]
  },
  {
   "cell_type": "code",
   "execution_count": 96,
   "metadata": {},
   "outputs": [],
   "source": [
    "def restaurant_rec_sys(name, similarity = similarity):\n",
    "    index = indices[name]\n",
    "    similarity_scores = list(enumerate(similarity[index]))\n",
    "    similarity_scores = sorted(similarity_scores, key = lambda x: x[1],reverse = True)\n",
    "    similarity_scores = similarity_scores[:11]\n",
    "    res_indices = [i[0] for i in similarity_scores]\n",
    "    return data2[\"Name\"].iloc[res_indices]"
   ]
  },
  {
   "cell_type": "code",
   "execution_count": 98,
   "metadata": {},
   "outputs": [
    {
     "data": {
      "text/plain": [
       "4                         The Clam Bar\n",
       "1075    Toulouse Cafe and Bar (Dallas)\n",
       "1842                          Lapellah\n",
       "1156               LongHorn Steakhouse\n",
       "2753        Copper Top Tavern Camillus\n",
       "2018               Terra Mediterranean\n",
       "2194                      P.F. Chang's\n",
       "741                Shanghai You Garden\n",
       "744           Gringo's Mexican Kitchen\n",
       "2416                 Logan's Roadhouse\n",
       "1648                        Applebee's\n",
       "Name: Name, dtype: object"
      ]
     },
     "execution_count": 98,
     "metadata": {},
     "output_type": "execute_result"
    }
   ],
   "source": [
    "restaurant_rec_sys(\"Sixty Vines\", similarity= similarity)"
   ]
  },
  {
   "cell_type": "code",
   "execution_count": null,
   "metadata": {},
   "outputs": [],
   "source": []
  }
 ],
 "metadata": {
  "kernelspec": {
   "display_name": "Python 3",
   "language": "python",
   "name": "python3"
  },
  "language_info": {
   "codemirror_mode": {
    "name": "ipython",
    "version": 3
   },
   "file_extension": ".py",
   "mimetype": "text/x-python",
   "name": "python",
   "nbconvert_exporter": "python",
   "pygments_lexer": "ipython3",
   "version": "3.8.3"
  }
 },
 "nbformat": 4,
 "nbformat_minor": 4
}
